{
 "cells": [
  {
   "cell_type": "code",
   "execution_count": 107,
   "id": "501477b9",
   "metadata": {},
   "outputs": [],
   "source": [
    "%reload_ext autoreload\n",
    "%autoreload 2"
   ]
  },
  {
   "cell_type": "code",
   "execution_count": 108,
   "id": "bf5d6af1",
   "metadata": {
    "ExecuteTime": {
     "end_time": "2022-11-17T16:25:25.939304Z",
     "start_time": "2022-11-17T16:25:24.202907Z"
    }
   },
   "outputs": [],
   "source": [
    "import matplotlib.pyplot as plt\n",
    "import seaborn as sns\n",
    "from statsmodels.graphics.gofplots import qqplot\n",
    "from statsmodels.graphics.mosaicplot import mosaic\n",
    "import pandas as pd\n",
    "import numpy as np\n",
    "from my_utils.data_viz import *"
   ]
  },
  {
   "cell_type": "code",
   "execution_count": 109,
   "id": "2cbc9f06",
   "metadata": {},
   "outputs": [
    {
     "data": {
      "text/plain": [
       "(891, 15)"
      ]
     },
     "execution_count": 109,
     "metadata": {},
     "output_type": "execute_result"
    }
   ],
   "source": [
    "df = sns.load_dataset('titanic')\n",
    "df.shape"
   ]
  },
  {
   "cell_type": "code",
   "execution_count": 110,
   "id": "d97ef2b2",
   "metadata": {},
   "outputs": [
    {
     "data": {
      "text/plain": [
       "Index(['age', 'bmi', 'children', 'smoker', 'region', 'charges'], dtype='object')"
      ]
     },
     "execution_count": 110,
     "metadata": {},
     "output_type": "execute_result"
    }
   ],
   "source": [
    "data = pd.read_csv('data_workflow.csv')\n",
    "data.columns"
   ]
  },
  {
   "cell_type": "code",
   "execution_count": 111,
   "id": "9631fb7e",
   "metadata": {},
   "outputs": [
    {
     "data": {
      "text/plain": [
       "['#1f77b4',\n",
       " '#ff7f0e',\n",
       " '#2ca02c',\n",
       " '#d62728',\n",
       " '#9467bd',\n",
       " '#8c564b',\n",
       " '#e377c2',\n",
       " '#7f7f7f',\n",
       " '#bcbd22',\n",
       " '#17becf']"
      ]
     },
     "execution_count": 111,
     "metadata": {},
     "output_type": "execute_result"
    }
   ],
   "source": [
    "default_colors = plt.rcParams['axes.prop_cycle'].by_key()['color']\n",
    "default_colors"
   ]
  },
  {
   "cell_type": "code",
   "execution_count": 116,
   "id": "82bc6a63",
   "metadata": {
    "ExecuteTime": {
     "end_time": "2022-11-17T13:54:34.688221Z",
     "start_time": "2022-11-17T13:54:14.877719Z"
    }
   },
   "outputs": [
    {
     "name": "stdout",
     "output_type": "stream",
     "text": [
      "T̲a̲r̲g̲e̲t̲ ̲o̲v̲e̲r̲v̲i̲e̲w̲:\n",
      "\n",
      "  The target is survived.\n",
      "  It is composed of 0% of np.nan.\n",
      "  Its dtypes is int64.\n",
      "  Without specifying an estimator_job, the target will be considered as categorical.\n",
      "\n",
      "\n",
      "F̲e̲a̲t̲u̲r̲e̲s̲ ̲o̲v̲e̲r̲v̲i̲e̲w̲:\n",
      "\n",
      "  There is 15 columns which are:\n",
      "\n",
      "    - 13.33% of them seem to be numerical: [age, fare];\n",
      "\n",
      "    - 86.67% of them seem to be categorical: [survived, pclass, sex, sibsp, parch, embarked, class, who, adult_male, deck, embark_town, alive, alone];\n",
      "\n",
      "D̲t̲y̲p̲e̲s̲ ̲o̲v̲e̲r̲v̲i̲e̲w̲:\n",
      "\n",
      "  Dataset has 6 different dtypes which are:\n",
      "\n",
      "    - int64 corresponds to 26.67% of columns and includes columns: survived, pclass, sibsp, parch\n",
      "\n",
      "    - object corresponds to 33.33% of columns and includes columns: sex, embarked, who, embark_town, alive\n",
      "\n",
      "    - float64 corresponds to 13.33% of columns and includes columns: age, fare\n",
      "\n",
      "    - category corresponds to 6.67% of columns and includes columns: class\n",
      "\n",
      "    - bool corresponds to 13.33% of columns and includes columns: adult_male, alone\n",
      "\n",
      "    - category corresponds to 6.67% of columns and includes columns: deck\n",
      "\n",
      "N̲a̲n̲ ̲o̲v̲e̲r̲v̲i̲e̲w̲:\n",
      "\n",
      "There are 4 features over 15 (0.27% of whole df) that include np.nan\n",
      "\n",
      "Have a look at these features (% of nan): deck: 77.22%, age: 19.87%, embarked: 0.22%, embark_town: 0.22%\n",
      "\n",
      "F̲e̲a̲t̲u̲r̲e̲s̲ ̲t̲o̲_̲d̲r̲o̲p\n",
      "\n",
      "  There might be features to drop these features: deck, age\n",
      "\n",
      "  No features to drop found.\n",
      "\n",
      "W̲h̲i̲c̲h̲ ̲s̲c̲a̲l̲e̲ ̲t̲o̲ ̲u̲s̲e\n",
      "\n",
      "Among your numerical features:\n",
      "    - 0 should use a StandardScaler: [])\n",
      "    - 1 should use a RobustScaler: [age])\n",
      "    - 1 should use a MinMaxScaler: [fare])\n",
      "\n",
      "L̲e̲t̲'̲s̲ ̲h̲a̲v̲e̲ ̲a̲ ̲l̲o̲o̲k̲ ̲a̲t̲ ̲a̲l̲l̲ ̲t̲h̲e̲ ̲f̲e̲a̲t̲u̲r̲e̲s̲:\n"
     ]
    }
   ],
   "source": [
    "quick_check(df, 'survived',plot_overview=False)"
   ]
  },
  {
   "cell_type": "code",
   "execution_count": 57,
   "id": "f9460135",
   "metadata": {},
   "outputs": [
    {
     "name": "stderr",
     "output_type": "stream",
     "text": [
      "/var/folders/3y/s6r1wjkx4flbn7tcx695504c0000gn/T/ipykernel_36427/2907027414.py:1: FutureWarning: Dropping of nuisance columns in DataFrame reductions (with 'numeric_only=None') is deprecated; in a future version this will raise TypeError.  Select only valid columns before calling the reduction.\n",
      "  data.kurt()\n"
     ]
    },
    {
     "data": {
      "text/plain": [
       "age        -1.245293\n",
       "bmi        -0.024964\n",
       "children    0.202454\n",
       "smoker      0.145756\n",
       "charges     1.606299\n",
       "dtype: float64"
      ]
     },
     "execution_count": 57,
     "metadata": {},
     "output_type": "execute_result"
    }
   ],
   "source": [
    "data.kurt()"
   ]
  },
  {
   "cell_type": "code",
   "execution_count": 2,
   "id": "5acb3a13",
   "metadata": {
    "ExecuteTime": {
     "end_time": "2022-11-17T16:19:07.504604Z",
     "start_time": "2022-11-17T16:19:07.499076Z"
    }
   },
   "outputs": [],
   "source": [
    "import pySankey"
   ]
  },
  {
   "cell_type": "code",
   "execution_count": null,
   "id": "4967be1a",
   "metadata": {},
   "outputs": [],
   "source": [
    "import numpy as np\n",
    "import pandas as pd\n",
    "import matplotlib.pyplot as plt\n",
    "from statsmodels.graphics.mosaicplot import mosaic\n",
    "\n",
    "def mosaic_plot(df,X,y,ax=None):\n",
    "    default_colors = plt.rcParams['axes.prop_cycle'].by_key()['color']\n",
    "    couples = list(df[['survived','class']].groupby(['survived','class']).size().astype(str).index)\n",
    "    cross = pd.crosstab(df['survived'],df['class'])\n",
    "    props = lambda x: {'facecolor': default_colors[int(x[0])],'edgecolor':'w'}\n",
    "    labelizer = lambda k: {(str(couple[0]),str(couple[1])) : f'{couple[0]}-{couple[1]}\\n{round(cross.loc[couple[0],couple[1]]/cross.loc[couple[0]].sum()*100,2)}%'  for couple in toto}[k]\n",
    "    mosaic(df, ['survived', 'class'],properties=props2,labelizer = labelizer, ax=ax)"
   ]
  },
  {
   "cell_type": "code",
   "execution_count": 594,
   "id": "8157fb22",
   "metadata": {
    "ExecuteTime": {
     "end_time": "2022-11-17T16:18:34.290019Z",
     "start_time": "2022-11-17T16:18:34.272145Z"
    }
   },
   "outputs": [
    {
     "data": {
      "text/html": [
       "<div>\n",
       "<style scoped>\n",
       "    .dataframe tbody tr th:only-of-type {\n",
       "        vertical-align: middle;\n",
       "    }\n",
       "\n",
       "    .dataframe tbody tr th {\n",
       "        vertical-align: top;\n",
       "    }\n",
       "\n",
       "    .dataframe thead th {\n",
       "        text-align: right;\n",
       "    }\n",
       "</style>\n",
       "<table border=\"1\" class=\"dataframe\">\n",
       "  <thead>\n",
       "    <tr style=\"text-align: right;\">\n",
       "      <th></th>\n",
       "      <th>pclass</th>\n",
       "      <th>survived</th>\n",
       "    </tr>\n",
       "  </thead>\n",
       "  <tbody>\n",
       "    <tr>\n",
       "      <th>0</th>\n",
       "      <td>3</td>\n",
       "      <td>0</td>\n",
       "    </tr>\n",
       "    <tr>\n",
       "      <th>1</th>\n",
       "      <td>1</td>\n",
       "      <td>1</td>\n",
       "    </tr>\n",
       "    <tr>\n",
       "      <th>2</th>\n",
       "      <td>3</td>\n",
       "      <td>1</td>\n",
       "    </tr>\n",
       "    <tr>\n",
       "      <th>3</th>\n",
       "      <td>1</td>\n",
       "      <td>1</td>\n",
       "    </tr>\n",
       "    <tr>\n",
       "      <th>...</th>\n",
       "      <td>...</td>\n",
       "      <td>...</td>\n",
       "    </tr>\n",
       "    <tr>\n",
       "      <th>887</th>\n",
       "      <td>1</td>\n",
       "      <td>1</td>\n",
       "    </tr>\n",
       "    <tr>\n",
       "      <th>888</th>\n",
       "      <td>3</td>\n",
       "      <td>0</td>\n",
       "    </tr>\n",
       "    <tr>\n",
       "      <th>889</th>\n",
       "      <td>1</td>\n",
       "      <td>1</td>\n",
       "    </tr>\n",
       "    <tr>\n",
       "      <th>890</th>\n",
       "      <td>3</td>\n",
       "      <td>0</td>\n",
       "    </tr>\n",
       "  </tbody>\n",
       "</table>\n",
       "<p>891 rows × 2 columns</p>\n",
       "</div>"
      ],
      "text/plain": [
       "     pclass  survived\n",
       "0         3         0\n",
       "1         1         1\n",
       "2         3         1\n",
       "3         1         1\n",
       "..      ...       ...\n",
       "887       1         1\n",
       "888       3         0\n",
       "889       1         1\n",
       "890       3         0\n",
       "\n",
       "[891 rows x 2 columns]"
      ]
     },
     "execution_count": 594,
     "metadata": {},
     "output_type": "execute_result"
    }
   ],
   "source": [
    "df[['pclass','survived']]"
   ]
  },
  {
   "cell_type": "code",
   "execution_count": 24,
   "id": "1703c009",
   "metadata": {
    "ExecuteTime": {
     "end_time": "2022-11-17T16:22:09.481151Z",
     "start_time": "2022-11-17T16:22:09.407058Z"
    }
   },
   "outputs": [],
   "source": [
    "import pandas as pd\n",
    "from pySankey.sankey import sankey\n",
    "\n",
    "sankey(df['survived'], df['pclass'], aspect=20,fontsize=12)\n",
    "# Result is in \"fruit.png\""
   ]
  },
  {
   "cell_type": "code",
   "execution_count": 3,
   "id": "433be809",
   "metadata": {
    "ExecuteTime": {
     "end_time": "2022-11-17T16:25:55.453865Z",
     "start_time": "2022-11-17T16:25:55.411118Z"
    }
   },
   "outputs": [],
   "source": [
    "from collections import defaultdict\n",
    "\n",
    "import matplotlib\n",
    "import matplotlib.pyplot as plt\n",
    "import numpy as np\n",
    "import pandas as pd\n",
    "import seaborn as sns\n",
    "\n",
    "\n",
    "def check_data_matches_labels(labels, data, side):\n",
    "    if len(labels > 0):\n",
    "        if isinstance(data, list):\n",
    "            data = set(data)\n",
    "        if isinstance(data, pd.Series):\n",
    "            data = set(data.unique().tolist())\n",
    "        if isinstance(labels, list):\n",
    "            labels = set(labels)\n",
    "        if labels != data:\n",
    "            msg = \"\\n\"\n",
    "            if len(labels) <= 20:\n",
    "                msg = \"Labels: \" + \",\".join(labels) + \"\\n\"\n",
    "            if len(data) < 20:\n",
    "                msg += \"Data: \" + \",\".join(data)\n",
    "            raise LabelMismatch('{0} labels and data do not match.{1}'.format(side, msg))\n",
    "\n",
    "\n",
    "def dankey(left, right, leftWeight=None, rightWeight=None, colorDict=None,\n",
    "           leftLabels=None, rightLabels=None, aspect=4, rightColor=False,\n",
    "           fontsize=14, figureName=None, closePlot=False,ax=None):\n",
    "    '''\n",
    "    Make Sankey Diagram showing flow from left-->right\n",
    "    Inputs:\n",
    "        left = NumPy array of object labels on the left of the diagram\n",
    "        right = NumPy array of corresponding labels on the right of the diagram\n",
    "            len(right) == len(left)\n",
    "        leftWeight = NumPy array of weights for each strip starting from the\n",
    "            left of the diagram, if not specified 1 is assigned\n",
    "        rightWeight = NumPy array of weights for each strip starting from the\n",
    "            right of the diagram, if not specified the corresponding leftWeight\n",
    "            is assigned\n",
    "        colorDict = Dictionary of colors to use for each label\n",
    "            {'label':'color'}\n",
    "        leftLabels = order of the left labels in the diagram\n",
    "        rightLabels = order of the right labels in the diagram\n",
    "        aspect = vertical extent of the diagram in units of horizontal extent\n",
    "        rightColor = If true, each strip in the diagram will be be colored\n",
    "                    according to its left label\n",
    "    Ouput:\n",
    "        None\n",
    "    '''\n",
    "    if leftWeight is None:\n",
    "        leftWeight = []\n",
    "    if rightWeight is None:\n",
    "        rightWeight = []\n",
    "    if leftLabels is None:\n",
    "        leftLabels = []\n",
    "    if rightLabels is None:\n",
    "        rightLabels = []\n",
    "    # Check weights\n",
    "    if len(leftWeight) == 0:\n",
    "        leftWeight = np.ones(len(left))\n",
    "\n",
    "    if len(rightWeight) == 0:\n",
    "        rightWeight = leftWeight\n",
    "\n",
    "    plt.figure()\n",
    "    plt.rc('text', usetex=False)\n",
    "    plt.rc('font', family='serif')\n",
    "\n",
    "    # Create Dataframe\n",
    "    if isinstance(left, pd.Series):\n",
    "        left = left.reset_index(drop=True)\n",
    "    if isinstance(right, pd.Series):\n",
    "        right = right.reset_index(drop=True)\n",
    "    dataFrame = pd.DataFrame({'left': left, 'right': right, 'leftWeight': leftWeight,\n",
    "                              'rightWeight': rightWeight}, index=range(len(left)))\n",
    "\n",
    "    if len(dataFrame[(dataFrame.left.isnull()) | (dataFrame.right.isnull())]):\n",
    "        raise NullsInFrame('Sankey graph does not support null values.')\n",
    "\n",
    "    # Identify all labels that appear 'left' or 'right'\n",
    "    allLabels = pd.Series(np.r_[dataFrame.left.unique(), dataFrame.right.unique()]).unique()\n",
    "\n",
    "    # Identify left labels\n",
    "    if len(leftLabels) == 0:\n",
    "        leftLabels = pd.Series(dataFrame.left.unique()).unique()\n",
    "    else:\n",
    "        check_data_matches_labels(leftLabels, dataFrame['left'], 'left')\n",
    "\n",
    "    # Identify right labels\n",
    "    if len(rightLabels) == 0:\n",
    "        rightLabels = pd.Series(dataFrame.right.unique()).unique()\n",
    "    else:\n",
    "        check_data_matches_labels(leftLabels, dataFrame['right'], 'right')\n",
    "    # If no colorDict given, make one\n",
    "    if colorDict is None:\n",
    "        colorDict = {}\n",
    "        palette = \"hls\"\n",
    "        colorPalette = sns.color_palette(palette, len(allLabels))\n",
    "        for i, label in enumerate(allLabels):\n",
    "            colorDict[label] = colorPalette[i]\n",
    "    else:\n",
    "        missing = [label for label in allLabels if label not in colorDict.keys()]\n",
    "        if missing:\n",
    "            msg = \"The colorDict parameter is missing values for the following labels : \"\n",
    "            msg += '{}'.format(', '.join(missing))\n",
    "            raise ValueError(msg)\n",
    "\n",
    "    # Determine widths of individual strips\n",
    "    ns_l = defaultdict()\n",
    "    ns_r = defaultdict()\n",
    "    for leftLabel in leftLabels:\n",
    "        leftDict = {}\n",
    "        rightDict = {}\n",
    "        for rightLabel in rightLabels:\n",
    "            leftDict[rightLabel] = dataFrame[(dataFrame.left == leftLabel) & (dataFrame.right == rightLabel)].leftWeight.sum()\n",
    "            rightDict[rightLabel] = dataFrame[(dataFrame.left == leftLabel) & (dataFrame.right == rightLabel)].rightWeight.sum()\n",
    "        ns_l[leftLabel] = leftDict\n",
    "        ns_r[leftLabel] = rightDict\n",
    "\n",
    "    # Determine positions of left label patches and total widths\n",
    "    leftWidths = defaultdict()\n",
    "    for i, leftLabel in enumerate(leftLabels):\n",
    "        myD = {}\n",
    "        myD['left'] = dataFrame[dataFrame.left == leftLabel].leftWeight.sum()\n",
    "        if i == 0:\n",
    "            myD['bottom'] = 0\n",
    "            myD['top'] = myD['left']\n",
    "        else:\n",
    "            myD['bottom'] = leftWidths[leftLabels[i - 1]]['top'] + 0.02 * dataFrame.leftWeight.sum()\n",
    "            myD['top'] = myD['bottom'] + myD['left']\n",
    "            topEdge = myD['top']\n",
    "        leftWidths[leftLabel] = myD\n",
    "\n",
    "    # Determine positions of right label patches and total widths\n",
    "    rightWidths = defaultdict()\n",
    "    for i, rightLabel in enumerate(rightLabels):\n",
    "        myD = {}\n",
    "        myD['right'] = dataFrame[dataFrame.right == rightLabel].rightWeight.sum()\n",
    "        if i == 0:\n",
    "            myD['bottom'] = 0\n",
    "            myD['top'] = myD['right']\n",
    "        else:\n",
    "            myD['bottom'] = rightWidths[rightLabels[i - 1]]['top'] + 0.02 * dataFrame.rightWeight.sum()\n",
    "            myD['top'] = myD['bottom'] + myD['right']\n",
    "            topEdge = myD['top']\n",
    "        rightWidths[rightLabel] = myD\n",
    "\n",
    "    # Total vertical extent of diagram\n",
    "    xMax = topEdge / aspect\n",
    "\n",
    "    # Draw vertical bars on left and right of each  label's section & print label\n",
    "    for leftLabel in leftLabels:\n",
    "        plt.fill_between(\n",
    "            [-0.02 * xMax, 0],\n",
    "            2 * [leftWidths[leftLabel]['bottom']],\n",
    "            2 * [leftWidths[leftLabel]['bottom'] + leftWidths[leftLabel]['left']],\n",
    "            color=colorDict[leftLabel],\n",
    "            alpha=0.99\n",
    "        )\n",
    "        plt.text(\n",
    "            -0.05 * xMax,\n",
    "            leftWidths[leftLabel]['bottom'] + 0.5 * leftWidths[leftLabel]['left'],\n",
    "            leftLabel,\n",
    "            {'ha': 'right', 'va': 'center'},\n",
    "            fontsize=fontsize\n",
    "        )\n",
    "    for rightLabel in rightLabels:\n",
    "        plt.fill_between(\n",
    "            [xMax, 1.02 * xMax], 2 * [rightWidths[rightLabel]['bottom']],\n",
    "            2 * [rightWidths[rightLabel]['bottom'] + rightWidths[rightLabel]['right']],\n",
    "            color=colorDict[rightLabel],\n",
    "            alpha=0.99\n",
    "        )\n",
    "        plt.text(\n",
    "            1.05 * xMax,\n",
    "            rightWidths[rightLabel]['bottom'] + 0.5 * rightWidths[rightLabel]['right'],\n",
    "            rightLabel,\n",
    "            {'ha': 'left', 'va': 'center'},\n",
    "            fontsize=fontsize\n",
    "        )\n",
    "\n",
    "    # Plot strips\n",
    "    for leftLabel in leftLabels:\n",
    "        for rightLabel in rightLabels:\n",
    "            labelColor = leftLabel\n",
    "            if rightColor:\n",
    "                labelColor = rightLabel\n",
    "            if len(dataFrame[(dataFrame.left == leftLabel) & (dataFrame.right == rightLabel)]) > 0:\n",
    "                # Create array of y values for each strip, half at left value,\n",
    "                # half at right, convolve\n",
    "                ys_d = np.array(50 * [leftWidths[leftLabel]['bottom']] + 50 * [rightWidths[rightLabel]['bottom']])\n",
    "                ys_d = np.convolve(ys_d, 0.05 * np.ones(20), mode='valid')\n",
    "                ys_d = np.convolve(ys_d, 0.05 * np.ones(20), mode='valid')\n",
    "                ys_u = np.array(50 * [leftWidths[leftLabel]['bottom'] + ns_l[leftLabel][rightLabel]] + 50 * [rightWidths[rightLabel]['bottom'] + ns_r[leftLabel][rightLabel]])\n",
    "                ys_u = np.convolve(ys_u, 0.05 * np.ones(20), mode='valid')\n",
    "                ys_u = np.convolve(ys_u, 0.05 * np.ones(20), mode='valid')\n",
    "\n",
    "                # Update bottom edges at each label so next strip starts at the right place\n",
    "                leftWidths[leftLabel]['bottom'] += ns_l[leftLabel][rightLabel]\n",
    "                rightWidths[rightLabel]['bottom'] += ns_r[leftLabel][rightLabel]\n",
    "                plt.fill_between(\n",
    "                    np.linspace(0, xMax, len(ys_d)), ys_d, ys_u, alpha=0.65,\n",
    "                    color=colorDict[labelColor]\n",
    "                )\n",
    "    plt.gca().axis('off')\n",
    "    plt.gcf().set_size_inches(6, 6)\n",
    "    if figureName != None:\n",
    "        plt.savefig(\"{}.png\".format(figureName), bbox_inches='tight', dpi=150)\n",
    "    if closePlot:\n",
    "        plt.close()\n",
    "    plt.show()"
   ]
  },
  {
   "cell_type": "code",
   "execution_count": 4,
   "id": "6c6164f0",
   "metadata": {
    "ExecuteTime": {
     "end_time": "2022-11-17T16:25:56.301620Z",
     "start_time": "2022-11-17T16:25:56.166570Z"
    }
   },
   "outputs": [
    {
     "data": {
      "image/png": "[encoded data removed]",
      "text/plain": [
       "<Figure size 600x600 with 1 Axes>"
      ]
     },
     "metadata": {},
     "output_type": "display_data"
    }
   ],
   "source": [
    "dankey(df['survived'], df['pclass'])"
   ]
  },
  {
   "cell_type": "code",
   "execution_count": null,
   "id": "da842c14",
   "metadata": {},
   "outputs": [],
   "source": []
  }
 ],
 "metadata": {
  "kernelspec": {
   "display_name": "lewagonos",
   "language": "python",
   "name": "python3"
  },
  "language_info": {
   "codemirror_mode": {
    "name": "ipython",
    "version": 3
   },
   "file_extension": ".py",
   "mimetype": "text/x-python",
   "name": "python",
   "nbconvert_exporter": "python",
   "pygments_lexer": "ipython3",
   "version": "3.10.6"
  },
  "toc": {
   "base_numbering": 1,
   "nav_menu": {},
   "number_sections": true,
   "sideBar": true,
   "skip_h1_title": false,
   "title_cell": "Table of Contents",
   "title_sidebar": "Contents",
   "toc_cell": false,
   "toc_position": {},
   "toc_section_display": true,
   "toc_window_display": false
  },
  "vscode": {
   "interpreter": {
    "hash": "8684a9c1ded1f3c9e4917528381ec9f422287eeae047b5d5a7fc07c5846c739b"
   }
  }
 },
 "nbformat": 4,
 "nbformat_minor": 5
}
